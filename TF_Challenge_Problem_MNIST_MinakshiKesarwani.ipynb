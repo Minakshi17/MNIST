{
  "nbformat": 4,
  "nbformat_minor": 0,
  "metadata": {
    "colab": {
      "name": "TF Challenge Problem_MNIST_MinakshiKesarwani.ipynb",
      "provenance": []
    },
    "kernelspec": {
      "name": "python3",
      "display_name": "Python 3"
    }
  },
  "cells": [
    {
      "cell_type": "markdown",
      "metadata": {
        "id": "B-5NcbkrPA88",
        "colab_type": "text"
      },
      "source": [
        "The MNIST dataset is an acronym that stands for the Modified National Institute of Standards and Technology dataset. It is a dataset of 60,000 small square 28×28 pixel grayscale images of handwritten single digits between 0 and 9."
      ]
    },
    {
      "cell_type": "code",
      "metadata": {
        "id": "9GWnI4IdG7FI",
        "colab_type": "code",
        "colab": {}
      },
      "source": [
        "# Import Libraries\n",
        "import os\n",
        "import cv2\n",
        "import numpy as np\n",
        "import tensorflow as tf\n",
        "import matplotlib.pyplot as plt"
      ],
      "execution_count": 1,
      "outputs": []
    },
    {
      "cell_type": "code",
      "metadata": {
        "id": "K3BUsuk1HYH7",
        "colab_type": "code",
        "colab": {
          "base_uri": "https://localhost:8080/",
          "height": 52
        },
        "outputId": "4b40a646-54be-4f35-eafd-1ffac8def19d"
      },
      "source": [
        " # Loading the MNIST data set with samples and splitting it\n",
        "#(x_train, y_train), (x_test, y_test) = load_data()\n",
        "\n",
        "mnist = tf.keras.datasets.mnist\n",
        "(X_train, y_train), (X_test, y_test) = mnist.load_data()"
      ],
      "execution_count": 2,
      "outputs": [
        {
          "output_type": "stream",
          "text": [
            "Downloading data from https://storage.googleapis.com/tensorflow/tf-keras-datasets/mnist.npz\n",
            "11493376/11490434 [==============================] - 0s 0us/step\n"
          ],
          "name": "stdout"
        }
      ]
    },
    {
      "cell_type": "code",
      "metadata": {
        "id": "1kCLQzkgHYaq",
        "colab_type": "code",
        "colab": {}
      },
      "source": [
        "# To see all value of X_train ndarray\n",
        "#X_train.tolist()\n"
      ],
      "execution_count": 3,
      "outputs": []
    },
    {
      "cell_type": "code",
      "metadata": {
        "id": "QfQ1XWesHYQX",
        "colab_type": "code",
        "colab": {}
      },
      "source": [
        "# Normalizing the data (making length = 1)\n",
        "X_train_N = tf.keras.utils.normalize(X_train, axis=1)\n",
        "X_test_N = tf.keras.utils.normalize(X_test, axis=1)"
      ],
      "execution_count": 4,
      "outputs": []
    },
    {
      "cell_type": "markdown",
      "metadata": {
        "id": "tz2FoG_RJZJy",
        "colab_type": "text"
      },
      "source": [
        "**Neural Network Model**"
      ]
    },
    {
      "cell_type": "code",
      "metadata": {
        "id": "BX6bDWscHYkX",
        "colab_type": "code",
        "colab": {}
      },
      "source": [
        " # Create a neural network model\n",
        "    # Add one flattened input layer for the pixels\n",
        "    # Add two dense hidden layers\n",
        "    # Add one dense output layer for the 10 digits\n",
        "model = tf.keras.models.Sequential()\n",
        "model.add(tf.keras.layers.Flatten())\n",
        "model.add(tf.keras.layers.Dense(units=128, activation=tf.nn.relu))\n",
        "model.add(tf.keras.layers.Dense(units=128, activation=tf.nn.relu))\n",
        "model.add(tf.keras.layers.Dense(units=10, activation=tf.nn.softmax))\n",
        "# 0-9 digit so 10 classes "
      ],
      "execution_count": 5,
      "outputs": []
    },
    {
      "cell_type": "code",
      "metadata": {
        "id": "-997wuHkHYhR",
        "colab_type": "code",
        "colab": {}
      },
      "source": [
        "# Compiling and optimizing model\n",
        "model.compile(optimizer='adam', loss='sparse_categorical_crossentropy', metrics=['accuracy'])"
      ],
      "execution_count": 6,
      "outputs": []
    },
    {
      "cell_type": "code",
      "metadata": {
        "id": "jd1n7xG0HYel",
        "colab_type": "code",
        "colab": {
          "base_uri": "https://localhost:8080/",
          "height": 122
        },
        "outputId": "a9550ea8-0358-4562-931e-28880543b4ee"
      },
      "source": [
        " # Training the model\n",
        "history=model.fit(X_train, y_train, epochs=3,validation_split = 0.1)\n",
        "\n"
      ],
      "execution_count": 7,
      "outputs": [
        {
          "output_type": "stream",
          "text": [
            "Epoch 1/3\n",
            "1688/1688 [==============================] - 4s 3ms/step - loss: 1.8895 - accuracy: 0.8693 - val_loss: 0.4448 - val_accuracy: 0.9238\n",
            "Epoch 2/3\n",
            "1688/1688 [==============================] - 4s 2ms/step - loss: 0.3689 - accuracy: 0.9275 - val_loss: 0.2537 - val_accuracy: 0.9505\n",
            "Epoch 3/3\n",
            "1688/1688 [==============================] - 4s 2ms/step - loss: 0.2397 - accuracy: 0.9433 - val_loss: 0.2203 - val_accuracy: 0.9482\n"
          ],
          "name": "stdout"
        }
      ]
    },
    {
      "cell_type": "code",
      "metadata": {
        "id": "ypk0O2PjQ4qw",
        "colab_type": "code",
        "colab": {
          "base_uri": "https://localhost:8080/",
          "height": 105
        },
        "outputId": "9e033646-a55f-4567-be04-737a2264c7a8"
      },
      "source": [
        "# Evaluating the model\n",
        "test_loss, test_acc = model.evaluate(X_test, y_test)\n",
        "print(f\"\\nTest Loss:{test_loss}\")\n",
        "print(f\"\\nTest Accuracy:{test_acc}\")"
      ],
      "execution_count": 8,
      "outputs": [
        {
          "output_type": "stream",
          "text": [
            "313/313 [==============================] - 0s 1ms/step - loss: 0.2452 - accuracy: 0.9429\n",
            "\n",
            "Test Loss:0.24524269998073578\n",
            "\n",
            "Test Accuracy:0.9429000020027161\n"
          ],
          "name": "stdout"
        }
      ]
    },
    {
      "cell_type": "code",
      "metadata": {
        "id": "yrrOhBumhR5W",
        "colab_type": "code",
        "colab": {
          "base_uri": "https://localhost:8080/",
          "height": 313
        },
        "outputId": "cd846fd8-bdb6-43fb-c160-5501342d53e4"
      },
      "source": [
        "# list all data in history\n",
        "print(history.history.keys())\n",
        "# summarize history for accuracy\n",
        "plt.plot(history.history['accuracy'])\n",
        "plt.plot(history.history['val_accuracy'])\n",
        "plt.title('model accuracy')\n",
        "plt.ylabel('accuracy')\n",
        "plt.xlabel('epoch')\n",
        "plt.legend(['train', 'test'], loc='upper left')\n",
        "plt.show()"
      ],
      "execution_count": 9,
      "outputs": [
        {
          "output_type": "stream",
          "text": [
            "dict_keys(['loss', 'accuracy', 'val_loss', 'val_accuracy'])\n"
          ],
          "name": "stdout"
        },
        {
          "output_type": "display_data",
          "data": {
            "image/png": "[encoded data removed]",
            "text/plain": [
              "<Figure size 432x288 with 1 Axes>"
            ]
          },
          "metadata": {
            "tags": [],
            "needs_background": "light"
          }
        }
      ]
    },
    {
      "cell_type": "code",
      "metadata": {
        "id": "bpSuFqbwHYUe",
        "colab_type": "code",
        "colab": {
          "base_uri": "https://localhost:8080/",
          "height": 295
        },
        "outputId": "b1373f96-8323-43c5-a3fa-7f858a218e4e"
      },
      "source": [
        "# summarize history for loss\n",
        "plt.plot(history.history['loss'])\n",
        "plt.plot(history.history['val_loss'])\n",
        "plt.title('model loss')\n",
        "plt.ylabel('loss')\n",
        "plt.xlabel('epoch')\n",
        "plt.legend(['train', 'test'], loc='upper left')\n",
        "plt.show()"
      ],
      "execution_count": 10,
      "outputs": [
        {
          "output_type": "display_data",
          "data": {
            "image/png": "[encoded data removed]",
            "text/plain": [
              "<Figure size 432x288 with 1 Axes>"
            ]
          },
          "metadata": {
            "tags": [],
            "needs_background": "light"
          }
        }
      ]
    }
  ]
}